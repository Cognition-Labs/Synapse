{
 "cells": [
  {
   "cell_type": "code",
   "execution_count": 2,
   "metadata": {},
   "outputs": [
    {
     "data": {
      "text/plain": [
       "True"
      ]
     },
     "execution_count": 2,
     "metadata": {},
     "output_type": "execute_result"
    }
   ],
   "source": [
    "import os\n",
    "import platform\n",
    "import sys\n",
    "import dotenv\n",
    "from langchain.vectorstores import Chroma\n",
    "from langchain.embeddings import OpenAIEmbeddings\n",
    "from langchain.text_splitter import RecursiveCharacterTextSplitter\n",
    "from langchain.llms import OpenAI\n",
    "from langchain.chains import RetrievalQA\n",
    "from langchain.document_loaders import TextLoader\n",
    "from langchain.document_loaders import DirectoryLoader\n",
    "from langchain.document_loaders import PyPDFLoader\n",
    "from langchain.document_loaders import UnstructuredHTMLLoader\n",
    "DOT_ENV_PATH = \"/Users/danielgeorge/Documents/work/ml/hypolab/Synapse/server/node/.env\"\n",
    "dotenv.load_dotenv(DOT_ENV_PATH)"
   ]
  },
  {
   "cell_type": "code",
   "execution_count": 3,
   "metadata": {},
   "outputs": [],
   "source": [
    "# Read all the lines from snapshots.txt\n",
    "snapshot_paths = []\n",
    "with open(\"snapshots\", \"r\") as snapshot_file:\n",
    "    lines = snapshot_file.readlines()\n",
    "    for line in lines:\n",
    "        snapshot_paths.append(line.strip())"
   ]
  },
  {
   "cell_type": "code",
   "execution_count": 4,
   "metadata": {},
   "outputs": [
    {
     "data": {
      "text/plain": [
       "['/Users/danielgeorge/Zotero/storage/HI6BG4VW/messing-around-with-word2vec.html',\n",
       " '/Users/danielgeorge/Zotero/storage/8RKG8IEZ/mrbeast.html',\n",
       " '/Users/danielgeorge/Zotero/storage/GXAQX2CC/learn-in-public.html',\n",
       " '/Users/danielgeorge/Zotero/storage/FL58XPY8/poxJu.html',\n",
       " '/Users/danielgeorge/Zotero/storage/UT4VHUXY/methods-of-prompt-programming.html',\n",
       " '/Users/danielgeorge/Zotero/storage/9Y5YLT3P/einstein-productive-thought-combinatory-creativity.html',\n",
       " '/Users/danielgeorge/Zotero/storage/MGQIXPC2/372299.html',\n",
       " '/Users/danielgeorge/Zotero/storage/9TUU9RY6/ch01s06.html',\n",
       " '/Users/danielgeorge/Zotero/storage/7IBZYBUB/mimesis.html',\n",
       " '/Users/danielgeorge/Zotero/storage/AZQU42SC/a-technique-for-producing-ideas.html']"
      ]
     },
     "execution_count": 4,
     "metadata": {},
     "output_type": "execute_result"
    }
   ],
   "source": [
    "snapshot_paths[0:10]"
   ]
  },
  {
   "cell_type": "code",
   "execution_count": 5,
   "metadata": {},
   "outputs": [],
   "source": [
    "from langchain.document_loaders import BSHTMLLoader"
   ]
  },
  {
   "cell_type": "code",
   "execution_count": 8,
   "metadata": {},
   "outputs": [
    {
     "name": "stdout",
     "output_type": "stream",
     "text": [
      "Processing 76 snapshots\n",
      "/Users/danielgeorge/Zotero/storage/HI6BG4VW/messing-around-with-word2vec.html\n",
      "/Users/danielgeorge/Zotero/storage/8RKG8IEZ/mrbeast.html\n",
      "/Users/danielgeorge/Zotero/storage/GXAQX2CC/learn-in-public.html\n",
      "/Users/danielgeorge/Zotero/storage/FL58XPY8/poxJu.html\n",
      "/Users/danielgeorge/Zotero/storage/UT4VHUXY/methods-of-prompt-programming.html\n",
      "/Users/danielgeorge/Zotero/storage/9Y5YLT3P/einstein-productive-thought-combinatory-creativity.html\n",
      "/Users/danielgeorge/Zotero/storage/MGQIXPC2/372299.html\n",
      "/Users/danielgeorge/Zotero/storage/9TUU9RY6/ch01s06.html\n",
      "/Users/danielgeorge/Zotero/storage/7IBZYBUB/mimesis.html\n",
      "/Users/danielgeorge/Zotero/storage/AZQU42SC/a-technique-for-producing-ideas.html\n",
      "/Users/danielgeorge/Zotero/storage/9JYIKNLW/monocle.html\n",
      "/Users/danielgeorge/Zotero/storage/MGL8VX5N/text-universal-interface.html\n",
      "/Users/danielgeorge/Zotero/storage/W9Y9NS4M/1803.html\n",
      "/Users/danielgeorge/Zotero/storage/5NILPXND/the-waluigi-effect-mega-post.html\n",
      "/Users/danielgeorge/Zotero/storage/RVLWSPVH/the-prioritization-principle.html\n",
      "/Users/danielgeorge/Zotero/storage/RZ3CG663/leverage-points-places-to-intervene-in-a-system.html\n",
      "/Users/danielgeorge/Zotero/storage/T8TKG4KG/s41587-020-0561-9.html\n",
      "/Users/danielgeorge/Zotero/storage/NXLMW5E2/inversion.html\n",
      "/Users/danielgeorge/Zotero/storage/39YIL5EH/your-organization-sucks-at-innovating.html\n",
      "/Users/danielgeorge/Zotero/storage/2X7TFTI3/why-blockchain-could-one-day-topple-google.html\n",
      "/Users/danielgeorge/Zotero/storage/UX633WN7/planning-for-agi-and-beyond.html\n",
      "/Users/danielgeorge/Zotero/storage/WIQ4EZUT/11ph6.html\n",
      "/Users/danielgeorge/Zotero/storage/N538PN4B/google-and-combinatorial-innovation.html\n",
      "/Users/danielgeorge/Zotero/storage/BR7TLMTY/cognitive-emulation-a-naive-ai-safety-proposal.html\n",
      "/Users/danielgeorge/Zotero/storage/9HLVCIGI/puwtpd.html\n",
      "/Users/danielgeorge/Zotero/storage/PRCILHTI/notes-on-taste.html\n",
      "/Users/danielgeorge/Zotero/storage/QYVA7EK2/3810663732.html\n",
      "/Users/danielgeorge/Zotero/storage/I4KRJAF9/learningsystem.html\n",
      "/Users/danielgeorge/Zotero/storage/4G2QCPNP/ttft.html\n",
      "/Users/danielgeorge/Zotero/storage/KCM98L3F/zeroth-principles-thinking-9376d0b7e7f5.html\n",
      "/Users/danielgeorge/Zotero/storage/A5IRMJH9/viewer.html\n",
      "/Users/danielgeorge/Zotero/storage/D38U878T/poxJu.html\n",
      "/Users/danielgeorge/Zotero/storage/R8PVWPMK/data-and-machines.html\n",
      "/Users/danielgeorge/Zotero/storage/3C5ICS7W/2021-07-11-diffusion-models.html\n",
      "/Users/danielgeorge/Zotero/storage/7CGDDQ26/networked-knowledge-and-combinatorial-creativity.html\n",
      "/Users/danielgeorge/Zotero/storage/L2ZNEUKE/mimesis.html\n",
      "/Users/danielgeorge/Zotero/storage/JU6MLNWR/showing-up.html\n",
      "/Users/danielgeorge/Zotero/storage/DQXCED23/mental-models.html\n",
      "/Users/danielgeorge/Zotero/storage/NMS75G5U/amateurs-professionals.html\n",
      "/Users/danielgeorge/Zotero/storage/C4NQYNL9/agent-of-intelligence-how-a-deviant-philosopher-built-palantir-a-cia-funded-data-mining-juggern.html\n",
      "/Users/danielgeorge/Zotero/storage/LM5R7TKZ/avoiding-stupidity.html\n",
      "/Users/danielgeorge/Zotero/storage/D8QBNRQU/christopher-alexanders-architecture.html\n",
      "/Users/danielgeorge/Zotero/storage/TU9LDRXW/tools.html\n",
      "/Users/danielgeorge/Zotero/storage/RDECKNVY/cyborgism.html\n",
      "/Users/danielgeorge/Zotero/storage/7C6DYX2A/dan-dannetts-thinking-tools.html\n",
      "/Users/danielgeorge/Zotero/storage/QNU4EIY3/the-power-law-of-good-behavior-586bd2a05aeb.html\n",
      "/Users/danielgeorge/Zotero/storage/8HNUT9RY/Sb1hF.html\n",
      "/Users/danielgeorge/Zotero/storage/5WVX3P7L/searching-for-search-4.html\n",
      "/Users/danielgeorge/Zotero/storage/H73GF8EM/teaching-llms-to-see.html\n",
      "/Users/danielgeorge/Zotero/storage/9R2R3RML/cit-Patents.html\n",
      "/Users/danielgeorge/Zotero/storage/FIKWAXF6/2021-07-11-diffusion-models.html\n",
      "/Users/danielgeorge/Zotero/storage/GBS7EZGF/Sb1hF.html\n",
      "/Users/danielgeorge/Zotero/storage/74G9PWX3/the-success-paradox-why-even-a-little-bit-of-luck-often-beats-skill.html\n",
      "/Users/danielgeorge/Zotero/storage/3L92SM2Y/viewer.html\n",
      "/Users/danielgeorge/Zotero/storage/NBN6MZES/understanding-incontext.html\n",
      "/Users/danielgeorge/Zotero/storage/I6HZ5N2U/channel-frame.html\n",
      "/Users/danielgeorge/Zotero/storage/SPYW3P9N/how-do-people-get-new-ideas.html\n",
      "/Users/danielgeorge/Zotero/storage/NM32KCYP/MagicInk.html\n",
      "/Users/danielgeorge/Zotero/storage/89YI59AW/analogies.html\n",
      "/Users/danielgeorge/Zotero/storage/7ILV3SRQ/and-yet-it-understands.html\n",
      "/Users/danielgeorge/Zotero/storage/FJK29FN9/how-to-make.html\n",
      "/Users/danielgeorge/Zotero/storage/YGBD2UUT/metaculus-monday.html\n",
      "/Users/danielgeorge/Zotero/storage/DRN2WN5Z/mental-models.html\n",
      "/Users/danielgeorge/Zotero/storage/723CSIW2/3376125325.html\n",
      "/Users/danielgeorge/Zotero/storage/GLV2E8KF/networks-of-trust-vs-markets.html\n",
      "/Users/danielgeorge/Zotero/storage/U9UR7L6F/alan-kay-lunch.html\n",
      "/Users/danielgeorge/Zotero/storage/UXNCTU7I/seneca-on-combinatorial-creativity.html\n",
      "/Users/danielgeorge/Zotero/storage/USX2V3JZ/knowledge-and-opinions-upon-trust.html\n",
      "/Users/danielgeorge/Zotero/storage/AKI6Z697/a-wonderfully-simple-heuristic-to-recgonize-charlatans.html\n",
      "/Users/danielgeorge/Zotero/storage/ZV7FXG74/steve-jobs-on-creativity.html\n",
      "/Users/danielgeorge/Zotero/storage/ZH2BGDFJ/feeling-behind.html\n",
      "/Users/danielgeorge/Zotero/storage/984HYV6L/software-2-0-a64152b37c35.html\n",
      "/Users/danielgeorge/Zotero/storage/KPFZLVDQ/prediction-resources.html\n",
      "/Users/danielgeorge/Zotero/storage/69BRV54E/want-to-predict-explain-control-the-output-of-gpt-4-then.html\n",
      "/Users/danielgeorge/Zotero/storage/SRN6UAB3/RsY89.html\n",
      "/Users/danielgeorge/Zotero/storage/NWBMMKBC/potentialstudents.html\n"
     ]
    }
   ],
   "source": [
    "documents = []\n",
    "print(f\"Processing {len(snapshot_paths)} snapshots\")\n",
    "for snapshot_path in snapshot_paths:\n",
    "    # Load the document\n",
    "    document = BSHTMLLoader(snapshot_path).load()\n",
    "    # Add the document to the list of documents\n",
    "    documents += document\n",
    "    print(snapshot_path)\n",
    "    # Splitting the text into chunks\n",
    "    text_splitter = RecursiveCharacterTextSplitter(chunk_size=1000, chunk_overlap=200)\n",
    "    texts = text_splitter.split_documents(documents)\n",
    "    # Here we are using OpenAI embeddings but in future we will swap out to local embeddings\n",
    "    embedding = OpenAIEmbeddings()\n",
    "    documents = []\n",
    "    # Check if the path is of a real directory\n",
    "    db_path = 'db' \n",
    "    if not os.path.isdir(db_path):\n",
    "        # Create the directory\n",
    "        os.mkdir(db_path)\n",
    "        print(\"Creating database\")\n",
    "        # Create the database\n",
    "        vectordb = Chroma.from_documents(documents=texts,\n",
    "                                     embedding=embedding,\n",
    "                                     persist_directory=db_path)\n",
    "    else:\n",
    "        # Load the database\n",
    "        vectordb = Chroma(persist_directory=db_path, embedding_function=embedding)\n",
    "        vectordb.add_documents(texts)"
   ]
  },
  {
   "cell_type": "code",
   "execution_count": null,
   "metadata": {},
   "outputs": [],
   "source": []
  }
 ],
 "metadata": {
  "kernelspec": {
   "display_name": "Python 3",
   "language": "python",
   "name": "python3"
  },
  "language_info": {
   "codemirror_mode": {
    "name": "ipython",
    "version": 3
   },
   "file_extension": ".py",
   "mimetype": "text/x-python",
   "name": "python",
   "nbconvert_exporter": "python",
   "pygments_lexer": "ipython3",
   "version": "3.11.4"
  },
  "orig_nbformat": 4
 },
 "nbformat": 4,
 "nbformat_minor": 2
}
