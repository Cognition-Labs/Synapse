{
 "cells": [
  {
   "cell_type": "code",
   "execution_count": 14,
   "metadata": {},
   "outputs": [],
   "source": [
    "import sqlite3\n",
    "import pandas as pd\n",
    "# Create your connection.\n",
    "cnx = sqlite3.connect('/Users/danielgeorge/Zotero/zotero.sqlite')\n",
    "\n",
    "# List all tables in a database\n",
    "table_names = pd.read_sql_query(\"SELECT name FROM sqlite_master WHERE type='table'\", cnx)\n",
    "known_attachments = pd.read_sql_query(\"SELECT * FROM itemAttachments\", cnx)\n",
    "itemDataValues = pd.read_sql_query(\"SELECT * FROM itemDataValues\", cnx) # value id. ex 744\n",
    "items = pd.read_sql_query(\"SELECT * FROM items\", cnx) # itemId and key\n",
    "itemAttachments = pd.read_sql_query(\"SELECT * FROM itemAttachments\", cnx) # itemId and key\n",
    "syncCache = pd.read_sql_query(\"SELECT * FROM syncCache\", cnx) # has everything but only from last sync\n",
    "fileTypes = pd.read_sql_query(\"SELECT * FROM fileTypes\", cnx) #\n",
    "\n",
    "# items\n",
    "# itemNotes\n",
    "# itemAttachments"
   ]
  },
  {
   "cell_type": "code",
   "execution_count": null,
   "metadata": {},
   "outputs": [],
   "source": [
    "# We have to use syncCache to get the itemKey and the data"
   ]
  }
 ],
 "metadata": {
  "kernelspec": {
   "display_name": "synapse",
   "language": "python",
   "name": "python3"
  },
  "language_info": {
   "codemirror_mode": {
    "name": "ipython",
    "version": 3
   },
   "file_extension": ".py",
   "mimetype": "text/x-python",
   "name": "python",
   "nbconvert_exporter": "python",
   "pygments_lexer": "ipython3",
   "version": "3.11.4"
  },
  "orig_nbformat": 4
 },
 "nbformat": 4,
 "nbformat_minor": 2
}
