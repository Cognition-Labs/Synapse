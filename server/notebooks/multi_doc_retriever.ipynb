{
  "cells": [
    {
      "cell_type": "markdown",
      "metadata": {
        "id": "7AnZQpL_IZZZ"
      },
      "source": [
        "# LangChain multi-doc retriever with ChromaDB\n",
        "\n",
        "***New Points***\n",
        "- Multiple Files\n",
        "- ChromaDB\n",
        "- Source info\n",
        "- gpt-3.5-turbo API"
      ]
    },
    {
      "cell_type": "markdown",
      "metadata": {
        "id": "HqwsGJDhvAQ5"
      },
      "source": [
        "## Setting up LangChain\n"
      ]
    },
    {
      "cell_type": "code",
      "execution_count": 29,
      "metadata": {
        "id": "XHVE9uFb3Ajj"
      },
      "outputs": [],
      "source": [
        "import os\n",
        "import dotenv\n",
        "from langchain.vectorstores import Chroma\n",
        "from langchain.embeddings import OpenAIEmbeddings\n",
        "from langchain.text_splitter import RecursiveCharacterTextSplitter\n",
        "from langchain.llms import OpenAI\n",
        "from langchain.chains import RetrievalQA\n",
        "from langchain.document_loaders import TextLoader\n",
        "from langchain.document_loaders import DirectoryLoader\n",
        "from langchain.document_loaders import PyPDFLoader"
      ]
    },
    {
      "cell_type": "code",
      "execution_count": 30,
      "metadata": {},
      "outputs": [
        {
          "data": {
            "text/plain": [
              "False"
            ]
          },
          "execution_count": 30,
          "metadata": {},
          "output_type": "execute_result"
        }
      ],
      "source": [
        "DOT_ENV_PATH = \"./.env\"\n",
        "dotenv.load_dotenv(DOT_ENV_PATH)"
      ]
    },
    {
      "cell_type": "markdown",
      "metadata": {
        "id": "9UcQKUId3X2M"
      },
      "source": [
        "## Load multiple and process documents"
      ]
    },
    {
      "cell_type": "code",
      "execution_count": 31,
      "metadata": {
        "id": "PRSeXXc_3Ypj"
      },
      "outputs": [],
      "source": [
        "# Load and process the text files\n",
        "# loader = TextLoader('single_text_file.txt')\n",
        "loader = DirectoryLoader('./data', glob=\"./*.pdf\", loader_cls=PyPDFLoader)\n",
        "\n",
        "documents = loader.load()"
      ]
    },
    {
      "cell_type": "code",
      "execution_count": 39,
      "metadata": {
        "colab": {
          "base_uri": "https://localhost:8080/"
        },
        "id": "LJJmvNpbqfoq",
        "outputId": "af0af6fa-bcdd-4174-a107-6d380cb703e8"
      },
      "outputs": [
        {
          "data": {
            "text/plain": [
              "Document(page_content='Original Article\\nMethods Matter: Standard Production\\nPlatforms for Recombinant AAV ProduceChemically and Functionally Distinct Vectors\\nNeil G. Rumachik,1Stacy A. Malaker,1Nicole Poweleit,2Lucy H. Maynard,3Christopher M. Adams,4Ryan D. Leib,4\\nGiana Cirolia,3Dennis Thomas,5Susan Stamnes,6Kathleen Holt,6Patrick Sinn,6Andrew P. May,3\\nand Nicole K. Paulk3,7\\n1Department of Chemistry, Stanford University, Stanford, CA 94305, USA;2Department of Medicine, University of California San Francisco, San Francisco, CA 94305,\\nUSA;3Genome Engineering, Chan Zuckerberg Biohub, San Francisco, CA 94158, USA;4Vincent Coates Foundation Mass Spectrometry Laboratory, Stanford\\nUniversity, Stanford, CA 94305, USA;5Cryo-EM Core Facility, Cold Spring Harbor Laboratory, Cold Spring Harbor, NY 11724, USA;6Viral Vector Core, University of\\nIowa Carver College of Medicine, Iowa City, IA 52242, USA;7Department of Biochemistry & Biophysics, University of California San Francisco, San Francisco, CA\\n94158, USA\\nDifferent approaches are used in the production of recombi-\\nnant adeno-associated virus (rAAV). The two leading ap-proaches are transiently transfected human HEK293 cells andlive baculovirus infection of Spodoptera frugiperda (Sf9) insect\\ncells. Unexplained differences in vector performance have beenseen clinically and preclinically. Thus, we performed acontrolled comparative production analysis varying only thehost cell species but maintaining all other parameters. We char-acterized differences with multiple analytical approaches: pro-teomic pro ﬁling by mass spectrometry, isoelectric focusing,\\ncryo-EM (transmission electron cryomicroscopy), denatur-\\nation assays, genomic and epigenomic sequencing of packagedgenomes, human cytokine pro ﬁling, and functional transduc-\\ntion assessments in vitro and in vivo , including in humanized\\nliver mice. Using these approaches, we have made two majordiscoveries: (1) rAAV capsids have post-translational modi ﬁca-\\ntions (PTMs), including glycosylation, acetylation, phosphory-lation, and methylation, and these differ between platforms;and (2) rAAV genomes are methylated during production,and these are also differentially deposited between platforms.Our data show that host cell protein impurities differ between\\nplatforms and can have their own PTMs, including potentially\\nimmunogenic N-linked glycans. Human-produced rAAVs aremore potent than baculovirus- Sf9vectors in various cell types\\nin vitro (p < 0.05 –0.0001), in various mouse tissues in vivo\\n(p < 0.03 –0.0001), and in human liver in vivo (p < 0.005). These\\ndifferences may have clinical implications for rAAV receptorbinding, traf ﬁcking, expression kinetics, expression durability,\\nvector immunogenicity, as well as cost considerations.\\nINTRODUCTION\\nAdeno-associated virus (AAV) is a single-stranded DNA virus that\\nis non-pathogenic to humans, exhibits low immunogenicity but\\nhigh transduction ef ﬁciency, and is unable to replicate itself.1Re-combinant AAV (rAAV) can stably express gene products from\\neither unintegrated episomes2in quiescent tissues, or via integration\\nin actively dividing tissues3when designed with appropriate homol-\\nogy arms. Gene therapies and passive vaccines with rAAV arerapidly gaining attention and investment following the ﬁrst rAAV\\ntherapy approvals in the US market. Nearly 200 rAAV clinical trialsfor various indications have been performed, and numerous inves-tigational new drug applications ar e in various stages of review at the\\nUS Food and Drug Administration (FDA) and European MedicinesAgency (EMA). The predominant rAAV production platform used\\nfor preclinical and clinical studies to date has been transient trans-\\nfection of adherent human HEK293 cells.\\n4However, growth limita-\\ntions using adherent HEK293 cells have spurred manufacturing in-novations to increase yields. A newer platform utilizing livebaculovirus infection of Spodoptera frugiperda (Sf9) insect cells pro-\\nduces an average of 7e4 vector genomes (vg)/cell.\\n5–7Several recent\\nclinical trials have used vector from this new platform. One differ-ence between their preclinical validation and clinical trials was atransition in manufacturing platform from human HEK293 to bacu-lovirus- Sf9when scale-up was needed. This often corresponded to\\nan increased vector dose being administered to achieve relevant\\nexpression, and in some cases patients developed severe adverse\\nevents directly related to treatment.\\n8,9Thus, while poised to revolu-\\ntionize treatment of rare and common diseases alike, a thoroughcharacterization of differences in rAAV vector safety and potency\\nproduced by the two manufacturing platforms was needed.\\nWe characterized differences in vector lot composition at both\\nthe genomic and proteomic levels. This was motivated by the fact\\nReceived 3 March 2020; accepted 19 May 2020;\\nhttps://doi.org/10.1016/j.omtm.2020.05.018 .\\nCorrespondence: Nicole K. Paulk, Department of Biochemistry & Biophysics,\\nUniversity of California San Francisco, San Francisco, CA 94158, USA.\\nE-mail: nicole.paulk@ucsf.edu\\n98 Molecular Therapy: Methods & Clinical Development Vol. 18 September 2020 ª2020 The Author(s).\\nThis is an open access article under the CC BY-NC-ND license ( http://creativecommons.org/licenses/by-nc-nd/4.0/ ).', metadata={'source': 'data/Rumachik et al. - 2020 - Methods Matter Standard Production Platforms for.pdf', 'page': 0})"
            ]
          },
          "execution_count": 39,
          "metadata": {},
          "output_type": "execute_result"
        }
      ],
      "source": [
        "documents[0]"
      ]
    },
    {
      "cell_type": "code",
      "execution_count": 41,
      "metadata": {},
      "outputs": [
        {
          "data": {
            "text/plain": [
              "[Document(page_content='The Design  of Artifacts for Augmenting Intel lect\\nCassandra Xia  \\nMIT Media Lab  \\nCambridge, MA 02139  \\n(617) 253 -8321  \\nxiac@ media. mit.edu  Pattie Maes  \\nMIT Media Lab  \\nCambridge, MA 02139  \\n(617) 253 -7442  \\npattie@media.mit.edu  \\nABSTRACT  \\nFifty years ago, Doug Engelbart created a conceptual framework \\nfor augmenting human intellect in the context of problem -solving . \\nWe expand upon Engelbart \\'s framework and use his concepts of \\nprocess hierarchies and artifact augmentation for the design of  \\npersonal  intelligence augmentation  (IA) systems within the \\ndomains of memory,  motivation,  decision making,  and mood. \\nThis paper propose s a systematic design method ology  for personal \\nIA devices,  organize s existing IA  research within a logical  \\nframework, and uncover s underexplored areas of IA that could \\nbenefit from the invention of new artifacts.  \\nCategories and Subject Descriptors  \\nH.1.2  [User/Machine Sys tems ] \\nGeneral Terms  \\nDesign;  Human Factors  \\nKeywords  \\nIntelligence augmentation; intelligence amplification; intellect \\naugmentation; man -computer symbiosis;  co-evolution; memory; \\ndecision making; motivation; mood regulation  \\n1. INTRODUCTION  \\nFuturists and science fiction writers have long envisioned a \\nbionic, hardware -augmented future in which humans and \\nmachines merge to form powerful new entities [ Halacy, 1965 ]. \\nHumans would build hardware appendages to correct physical \\nshortcomings, better perceive their  surroundings, and perform \\nsuperhuman tasks. Most of the research presented at previous \\nAugmented Human conferences focuses on this physical style of \\nhuman augmentation.  \\nHowever, it is also  interest ing to look at software -based \\naugmentation of humans. For many of us, days are spent in front \\nof screens or smartphones, immersed in the use of software. \\nSoftware enjoys some advantages over hardware such as a faster \\nrate of evolution [Bennett, 2001], easy modifiability by a larger \\nproportion of the population [R esnick, 2009], and modifiability \\nwithout tools and parts. While hardware is well -suited for \\novercoming  physical limitations such as strength and endurance, it \\nmay be possible to use software to address mental limitations, \\nwhich is the idea we focus on in t his paper.  \\nThe idea of software -based augmentation grows stronger w ith the advent of socially acceptable, commercial wearable computers \\n[Google  Glass Project , 2012 ] that contribute  a natural platform for  \\nsoftware -based  intelligence  prosthetics . These permanent, always -\\navailable prosthetics may have a natural ability to merge with us \\nand make us true man -machine hybrids [Clark, 2004]. In order to \\nbuild these wearable intelligence prosthetics, we  seek guidance \\nfrom the pioneer  of technology -based  intelligence augmentation , \\nnamely D oug Engelbart , who  proposed the most unifying and \\nrigorous thought framework  for the field . While other theories \\ncontributed individual ideas, we found the structure of Engelbart\\'s \\nframework to be the most effective for spawning new patterns of \\nthought.  \\n2. ENGELBART\\'S FRAMEWORK  \\nWe start by revisiting the intellect augmentation framework \\nproposed b y Doug Engelbart  over five decades ago  [Engelbart, \\n1962]  in order to  (1) update Engelbart\\'s IA framework for \\npersonal wearable devices of the 21st century, (2) propose a \\nlogical design pattern for new IA devices (3) place existing IA \\nartifacts within conte xt, and in such a way to (4) identify IA areas \\nthat may benefit from additional research activity and \\nconceptualize new devices.  \\nEngelbart studied how augmentation could make humans better \\nproblem solvers. He chose to think about intellect augmentation as \\na systems engineering problem in which humans do not exist \\nsingularly but rather as part of a  larger system consisting of a \\nHuman using Language, A rtifacts,  and M ethodology in which  he \\nis Trained --which he calls the H-LAM/T system . Engelbart noted \\nthat whe n humans approach a problem solving task, we  have  \\nprocesses  or \"little steps or actions\" to call upon as we tackle \\nvarious parts of the problem. The entire problem -solving task is \\ncomposed of numerous processes in the form of a process \\nhierarchy . When augm entation occurs, it is not of the human \\nitself, but rather of the system as a whole and how the system \\ninterfaces with its process hierarchy. Therefore, augmentation can \\nbe accomplished by making improvements to any part of the \\nsystem ( artifacts, language,  methodology, and training ) in a way  \\nthat changes the process hierarchy for a task .  \\nIn this paper,  we choose to address how human intelligence  can be \\naugmented through physical items, which Engelbart call s \\n\"artifacts\". Physical items are considered  augmentation artifacts if \\nthey f acilitate or simplify a  process hierarchy in a way that \\nenhances our behavior. Although our  focus is on IA through the \\nintroduction of  artifacts,  it is informative to spend at least the rest \\nof this paragraph considering En gelbart\\'s alternative forms of \\naugmentation. A ugmentation through language  warrants a special \\nmention, as it duly notes how naming useful concepts and ideas in \\norder to make them more easily referenced and accessed in the \\nfuture , is a form of intelligence augmentation in itself . \\nAugmentation through language  is frequently used in academia;  \\nby coining a useful term, we give others an easy handle to pull up \\nthe same idea  in the future , allowing them the ability to build new \\ncomplex ideas out of previously nam ed ideas . Engelbart also  \\nPermission to make digital or hard copies of part or all of this work for \\npersonal or classroom use is granted without fee provided that copies are \\nnot made or distributed for profit or commercial advantage and that copies \\nbear this notice and the full citation on the first page. Copyrights for \\ncomponents of this work owned by others than ACM must be honored. \\nAbstracting with credit is permitted. To copy otherwise, to republish, to \\npost on servers or to redistribute to lists, requires prior spec ific permission \\nand/or a fee.  \\n \\nAH\\'13,  March 07 - 08 2013, Stuttgart, Germany  \\nCopyright 2013 ACM 978 -1-4503 -1904 -1/13/03   $15.00.  ', metadata={'source': '/Users/danielgeorge/Documents/work/ml/hypolab/Synapse/server/data/Xia and Maes - 2013 - The design of artifacts for augmenting intellect.pdf', 'page': 0}),\n",
              " Document(page_content='mentions a ugmentation through training  (improving the training \\ntechniques available for learning new abilities ) and a ugmentat ion \\nthrough methodology  (developing more effective procedures for \\ncompleting a particular task ). Interesti ngly, artifacts may be able \\nto address these two forms of augmentation as well, if the artifact \\ncan change our learning processes in such a way to affect training \\nor our process hierarchies in such a way to change methodology.   \\n3. AN UPDATE TO  ENGELBART\\'S \\nFRAMEWORK  \\nIn this section, w e propose two new interpretations  to Engelbart\\'s \\noriginal framework : a more personal angle for augmentation and \\nthe logical extension to  new cognitive domains . Although the \\nconcepts behind human -artifact interactio n remain the same ,  \\ncomputing has  undergone significant developments since \\nEngelbart\\'s 1962 paper. Computers have evolved from \\nmainframes shared between many users for the processing of \\nbatched computational tasks towards persona l computers that \\ndictate   a direct and responsive style of use. Nowadays, we are \\nsurrounded by increasingly inexpensive personal computers of all \\nvarieties: smartphones, tablets, and laptops. They are quickly \\nbecoming extensions of ourselves by subsuming aspects of our \\ndaily re sponsibilities, such as remembrance of contacts, notes, and  \\nour calendar  [Sparrow, 2011] . \\n \\nComputers are becoming  wearable devices perceptive of an \\nindividual user\\'s environment and actions [Schilit, 1994] [Starner, \\n1997]. Always -on input/output channels may offer even greater \\nlevels of integration : affective sensors to probe  user state and \\nmood [Picard, 1997], al ways -on cameras to identify the field of \\nattention [Starner, 1997]  [Mann, 1997] , cameras to observe the  \\naction of hands [Mistry, 2009], tiny accessorizable  projectors \\n[Mistry, 2009] and heads -up displays [Google Glass Project , \\n2012 ] that offer information even when the user is  not deliberatel y \\nfocused on the device. Given the evolution of computers towards \\nhighly personal, wearable, always -on de vices , we will revisit  \\nEngelbart\\'s idea of \"co -evolution\" from the angle of personal \\ncomputing, and reconsider what  the technology can do for us.  \\nUpdate #1: A personal  view of human -machine \"co -\\nevolution\"  \\nIn his paper, Engelbart used the evocative and biologically -\\ninspired term \"co -evolution\" to describe the relationship between \\nhumans and technology. Engelbart observed that technology \\ninfluences human evolution because our journey through time \\npasses throu gh one of many possible future states  and tends to \\nprobabilistically follow the path of least resistance. When a \\ntechnology enables us to perform a certain task  more easily, we \\nare more likely to perform that task than we were before. Because \\nthe developme nt of technology is the summation of many \\nindividual tasks, each new technology influences which future \\ntechnologies are more likely to be developed, creating an \\nintertwined feedback loop between human actions and technology \\ndevelopment.  \\nWe believe that E ngelbart\\'s view of co -evolution ha s a powerful \\ncorollary. He showed  that our creations change human behavior \\nand the evolutionary path of mankind. As designers and \\nengineers, we should ask \"how would we like to change \\nmankind ?\" and design technologies that  make it easier to achieve \\nthat desired state, causing the state to become more probable.  \\nWhile Engelbart discussed co -evolution for mankind and \\ntechnology, we believe it is useful to think about the co -evolution \\nof an individual and his own  technology. Im agine a future in \\nwhich we intentionally \"co-evolve \" with the software running on our personal devices. As individuals, we may be able to program \\nor instruct our devices to induce changes in ourselves , thereby \\nendowing us with the ability to sway the cours e of our individual \\nevolution.  \\nThis leads us to a different philosophical corollary. While \\nEngelbart\\'s view of co -evolution causes us to think about how to \\ndesign technologies in order to change mankind, this alternative \\nview of co -evolution lends the ques tions \"how would I like to \\nchange myself?\" and \"what programs can I employ to change \\nmyself\"? We believe that this personal enhancement perspective \\nlends itself to interesting possibilities for  a self-directed , personal, \\nand customizable  augmentation of in tellect  that may even be used \\nto revisit the problem solving domain.  \\nIn addition, this  powerful idea of having a system that l earns \\nabout one particular user  while the user learns about the system, \\ncreates for an exciting co -evolution loop [ Clark, 2004]  that \\nharkens back to Licklider\\'s original vision for man -computer \\nsymbiosis [ Licklider, 1960 ].  \\nUpdate #2: New cognitive domains  \\nThe second way in w hich Engelbart’s framework may  be updated  \\nis a simple domain shift . Intellect is more than just problem \\nsolvi ng ability, which was Engelbart\\'s main focus. While people \\ncan obviously benefit from help with problem solving activities, \\nthey may benefit as much or more from augmentation of non -\\nproblem solving aspects of human intellec t. The remainder of this \\npaper ap plies Engelbart\\'s framework to the augmentation of other \\nareas of interest such as memory, motivation, decision making , \\nand mood .  The list of cognitive domains that we chose  to address \\nis very much a  partial list and lacks important aspects of intellect \\nsuch as emotional intelligence  [Goleman, 2006]  and sensory \\nintelligences [Gardner, 1985] . We selected our short  list by \\npersonal interest and the amount of pre-existing work in each of \\nthe domains . \\n4. DESIGNING ARTIFACTS FOR \\nAUGMENTATION  \\nAs summarized and liberally extrapolated by the authors, the \\nfollowing steps describe how it is possible to use Engelbart\\'s  \\nframework for the design of IA artifacts . Our apologies if this \\nextrapolation ventures beyond E ngelbart\\'s original intent.  \\nStep 1: Consider the desired state after augmentation  \\nEngelbart  considered his desired state  after problem solving \\naugmentation. He decided that problem solving augmentation \\ncould be considered a success if humans were able to achieve \\n\"more -rapid comprehension, better comprehension, the possibility \\nof gaining a useful degree of comprehension in a situation that \\npreviously was too complex, speedier solutions, better solutions, \\nand the possibility of finding solutions to problems that before \\nseemed insoluble.\"  \\nStep 2: Identify the processes for the task  \\nEngelbart studied the memo -writing process to illustrate some of \\nthe processes involved in problem solving. He noted that the \\nmemo -writing process consisted of sub -processes such as  \\n\"planning, developing subject matter, composing text, producing \\nhard copy, and distributing.\"  \\nStep 3: Identify how artifacts can change a process or \\nthe process hierarchy  \\nEngelbart proposed the introduction of a typewriter artifact \\nallowing for the copy -paste of text. He remarked that \"this writing ', metadata={'source': '/Users/danielgeorge/Documents/work/ml/hypolab/Synapse/server/data/Xia and Maes - 2013 - The design of artifacts for augmenting intellect.pdf', 'page': 1}),\n",
              " Document(page_content='machine would permit you to use a new process of composing \\ntext... you can integrate your new ideas more easily, and thus \\nharness your creativity more continuously, if you can quickly and \\nflexibly change your wo rking record... which in turn enables you \\nto devise and use even -more complex procedures to better harness \\nyour talents in your particular working situation.\"  \\n \\nIn summary, to design new augmentation artifacts, we will first \\nconsider our desired state for each domain of human intellect that \\nwe plan to augment. We then consider the processes  in use for \\nthat particular domain. Lastly, we examine which artifacts  we can \\nintroduce in order to alter some of the processes so as to make our \\ndesired state more p robable. The contribution of this paper lies in \\nthe expansion of Engelbart\\'s framework to other domains of \\nintellect in order to provide a more systematic classification of \\nresearch projects and to uncover underexplored areas of intellect \\naugmentation that  could benefit from the invention of new \\nartifacts.  \\n5. NEW DOMAINS OF INTEREST  \\nIn this section, we hope to demonstrate the usefulness of applying \\nEngelbart\\'s framework to  think about the augmentation of  new \\ncognitive domains. By organizing existing researc h into \\nEngelbart\\'s structure, we are able to systematically  find processes \\nthat could benefit from augmentation  and propose novel artifacts .  \\nFor each of the subsections, we will follow the same structure. We \\nfirst present background literature that may pr ovide relevant \\ninformation for the domain of augmentation . We subsequently try \\nto discern a desired state of augmentation as well as candidate \\nprocesses to attack. We associate existing research artifacts with \\nour list of processes in order to find underse rved processes that \\ncan be addressed by the design of new processes . Although space \\nconstraints force us to be brief , we believe that even shallowly \\nexploring each domains in this manner demonstrates the \\nappropriate thought process  of how the framework can  be used to \\norganize and design personal IA systems.   \\n5.1 Memory  \\nWe begin with a  domain that has received much attention in p rior \\nwork,  augmentation of long -term memory. Any discussion of \\nmemory necessitates clarification as to  the type of  memory in question. To ground the discussion, w e choose to concern \\nourselves with declarative memory, the memory for conscious \\nrecollection of facts and events  [Squire, 1992]. The end -goal for  \\ndeclarative memory augmentation may be differ from person to \\nperson . Students may desire the ability to store and access large \\ntomes of information that they have only read once. Elderly \\npeople may wish to address memory loss or archive their \\nmemories for posterity. Others may desire the ability to forget bad \\nmemories.  \\nMemory researchers say we use two types of declarative memory \\nin our daily lives: semantic memory  for encoding abstract \\ninformation about the world and episodic memory  for encoding an \\nindividual\\'s personal experiences [Squ ire, 1998]. According to at \\nleast one mem ory model, these two types of memory may be \\ninterconnected in the sense that encoding of information for the \\nepisodic system depends critically on the semantic system \\n[Tulving, 1998]. In Tulving\\'s view, \"the two systems share many \\nfeatures, but episodic me mory has additional capabilities that \\nsemantic memory does not.\"  \\nIt is interesting to note that t he artifacts we have in our possession \\ntoday, such as the web and digital storage devices, are helpful for \\nsupporting the simpler semantic memory, and we may have \\nalready adapted to  having such tools  readily  available  for memory  \\naugmentation . Research has shown that we have lower rates of \\nrecall when we believe that information can be found easily on a \\nsearch engine [Sparrow, 2011]. We seem to  lack popular arti facts \\nfor the encoding and recall of (1) purely episodic information and \\n(2) information that exists as closely related content in both \\nepisodic and semantic memory. Memory augmentation  artifacts \\nmay want to expand f unctionality to these two areas . \\nTable 1  presents an  analysis of the processes involved in everyday \\nmemory is written from a simplistic computational perspective \\nand does not do justice to  all processes involved, but nevertheless \\nprovides a useful basis  for discussing existing  memory \\naugmentatio n artifacts  in Tabl e 2 and postulati ng about viable  \\nmemory artifacts  of the future . In fact, it would serve the reader \\nwell to  propose an alternati ve list of processes  involved in \\nmemory, as that would allow the reader to conceptualize a \\ndrastically diffe rent set of viable  artifact s.  \\n \\nTable 1. Proces ses associated with human memory\\nProcess name  Process description  Possible error  \\nEvent recording  Write the experience to the brain in \\nterms of both fac tual detail and \\nemotional state.  Write errors may occur so that stored information is \\nlost or distorted . \\nHandle \\nattachment  Attach relevant \"hash tags\" or \\n\"handles\" to the experience in order to \\nretrieve the memory in the future . Relevant handles may fail to be attached, causing a \\nfuture failure to retrieve a relevant memory.  \\nHandle usage  Convert the situation to a set of \\nhandles and use these handles to \\nsearch within our brain for potentially \\nrelevant memories . A failure may occu r during the conversion of the \\nreal-time experience to the entire space of relevant \\nhandles, causing a failure to retrieve a relevant \\nmemory even though the memory has been stored in \\nthe brain.  \\nEvent playback  Read the memo ry associated with that \\nhandle . Our stored memory may have holes . Worse, we may \\nnot realize that our memory has become distorted, \\ncolored, or incomplete and believe that our version \\nof the experience is correct [Winograd, 2006].  ', metadata={'source': '/Users/danielgeorge/Documents/work/ml/hypolab/Synapse/server/data/Xia and Maes - 2013 - The design of artifacts for augmenting intellect.pdf', 'page': 2}),\n",
              " Document(page_content='Table 2. Existing artifacts for memory augmentation and affected processes  \\nArtifact name  Artifact description  Memory type  Process affected  \\nForget -me-not \\n[Lamming, 1994]  Device that l ogs and timestamps all digital interactions a user makes with \\ndevices and other users. Offers the user access to events based on tags.  Episodic  Event recording; \\nHandle attachment  \\nRemembrance \\nAgent [Rhodes, \\n1997]  Device that s enses the current environmenta l context in order to suggest \\npreviously accessed material that may be relevant.  Semantic  and \\nepisodic  Handle usage  \\nMemory Glasses \\n[DeVaul, 2003]  Glasses for enhancing  face-name  recognition. Users are given time to \\nlearn names and faces. Users while wearing the glasses are subsequently \\nquizzed on the name associated with a particular face. A subliminal \\nmessage containing the name is flashed quickly within the glasses  in \\nattempt to unobtrusively assist in name rec all. Semantic  Handle usage  \\nIreme mber \\n[Vemuri, 2006]  Device that r ecords audio heard in daily life. The audio clips are stored \\nand auto matically organized by time and  contextual events such as \\nweather, calendar events, and email.  Episodic  Event recording; \\nHandle attachment; \\nEvent playbac k \\nSenseCam \\n[Hodges, 2006]  Camera that takes automatic and sensor triggered pictures of the user\\'s \\ndaily life. Software allows for playback and bookmarks of still shots. \\nSensecam was a purchasable product  [Vicon Revue] . Episodic  Event recording; \\nEvent playback  \\n \\nObserve that all identified memory processes without an \\nassociated artifact have potential for artifact augmentation. Since \\nthe majority of the experimental memory artifacts  (Table 2)  has \\nattempted to address the capture and r ecall of pure episodic \\nmemory, a dditional research may want to focus on the creation of \\nartifacts that assists in the encoding and recall of closely related \\nepisodic and semantic memory. For example, a potentially  useful \\ninnovation may be an artifact that automatically associates newly \\nacquired semantic information with hash tags and visually \\npresents these hash tags to the user. This artifact would serve to \\naugment the handle attachment  process and allow for addit ional \\nsemantic information to be easily pulled from the web. Another \\nartifact operating dually between episodic and semantic memory \\nmight overlay one user\\'s personal reaction when exposed to some \\nstimulus to the reaction of users who experienced the same \\nstimulus. This artifact augments the event recording  process and \\nallows for the creation of richer, social experiences (in a similar \\nfashion to [ Liu, 2004 ] but with different intent .) \\n5.2 Motivation  \\nThe field of technology -based augmentation of  motivation h as \\nbeen given attention in the  context  of diet and exercise. Yet, w e \\nmay still desire more universal motivation for sticking to general \\nlong-term goals . Perhaps it is difficult to remain motivated to new goals  because a large  proportion of human behavior is composed \\nof unconscious, fully -automated habit loops [Wood, 2007]. If this \\nis the case, and technology can assist  in the creation of new habits \\n[Oulasvirta, 2012], artifact introduction  may be an exceptionally \\npotent way for technology to support us in desired changes of \\nbehavior.  \\nTo be  slightly  more systematic  in our analysis , we may look \\ntowards what m anagement science has identified to be the \\nprocesses behind motivation. In particular, VIE motivation theory \\n[Vroom, 1964] claims that the decision to co mplete a task is \\ndependent upon the valuations of the three discrete components: \\nvalence (perception of reward), instrumentality (perceived \\ncorrelation between effort and task performance), and expectation \\n(perceived correlation between task performance an d reward).  \\nAlthough important, the task evaluation process es described in \\nmanagement science literature  does not comprise all of  a \\nmotivation framework. We may also want to  incorporate higher -\\norder goal formation and execution methodologies such as those \\ndescribed by Allen in his popular book  on motivation  [Allen, \\n2001]. As described in the previous section, our list of processes \\nby no means needs to be complete or \"correct\" , but rather offer \\nsufficient enough structural backbone for the conceptualization of \\nnew artifacts and the organization of existing artifacts.  \\n \\nTable 3. Processes associated with  motivation  \\nProcess name  Process description  Possible error  \\nSelf-evaluation of \\nperformance  Evaluate personal performance and distance to goal (i.e. through \\nlogging, incorporation of external feedback, or relative \\ncomparison to others) . Evaluation may be distorted; \\nEvaluation may not occur  \\nReminder of goal   Remind self of goal and reaffirm commitment . Goal may be forgotten; Goal \\nmay be forsaken  \\nTask \\nidentification  Identify a set of tasks that would aid in advancement of the goal . Subject may be unable to \\nconvert long -term goals into \\ndiscrete actionable tasks  \\nTask evaluation  Evaluate if performing the task is worthwhile  which according \\nto VIE motivation theory [Vroom, 1964] consists of valence \\nperception, instrumentality evaluation, and expectation \\nevaluation . Evaluation may be distorted; \\nEvaluation may not occur  ', metadata={'source': '/Users/danielgeorge/Documents/work/ml/hypolab/Synapse/server/data/Xia and Maes - 2013 - The design of artifacts for augmenting intellect.pdf', 'page': 3}),\n",
              " Document(page_content='Table 4. Existing artifacts for motivation augmentation and affected processes  \\n \\nArtifact name  Artifact description  Process affected  \\nStudy Buddy \\n[Fogg, 2005]  Hypothetical concept artifact which socially motivates students to study by displaying other \\nstudents who are studying at the same time as well as the study patterns of \"mentors\".  Self-evaluation of \\nperformance ; \\nReminder of goal  \\nWeight Loss \\nRobot [Kidd, \\n2007]  Robot helps a user track information related to his or her weight loss regimen and  reacts \\nwith the user in a socially appropriate manner as the robot -user pair being to develop a \\nrelationship.  Self-evaluation of \\nperformance ; \\nReminder of goal  \\nUbiFit Garden \\n[Consolvo, 2008]  Background of the cell phone screen grows flowers when a user ex ercises. Flower species \\nrepresent different exercise types.   Self-evaluation of \\nperformance ; \\nReminder of goal  \\nAfter consideration of the processes involved in motivation (Table \\n3) and existing artifacts  (Table 4) , we sug gest that additional work \\nin augmenting motivation may want to explore how artifacts can \\naid in task evaluation  processes. For instance, it may be possible \\nto augment the valence perception  process with an artifact that  \\nallow s users to psychologically expe rience the valence of a \\nparticular reward and how good it feels to succeed . It may be \\npossible to augment the process of expectation evaluation  through \\nan artifact that helps us better visualize the correlation between \\nperformance and reward, by showing ho w our individual \\nperformance on a task stacks up against other users performing \\nthe task.  \\n5.3 Decision making  \\nDecision making augmentation tries  to address the problem that \\nhumans are not iceab ly inconsistent.  We set long term goals for \\nourselves , but have difficulty  syncing our short term actions with \\nour long term intent. We have ethical frameworks and belief \\nsystems that we value  when we consciously stop to think, but our \\ndefault behavior  may remain unfounded due  to irrationality and  \\ncognitive disson ance [Ariely, 2009]. Context -aware software may \\nbe able to assist in some of our  short -term decisions, and make  us \\nmore aware of the long -term c onsequences of our  daily behavior . \\nWe want the decisions we make to be correct with respect to our \\nvalue systems , quick when considering the mental processing time \\nrequired to reach the decision, and confident in that we know that \\nwe made the correct choice. Artificial intelligence researchers \\nhave long experimented with the design of computerized expert \\nsystems tha t can aid [Barnett, 1987] [Sharda, 1988] or replace \\n[Buchanan, 1984] [Duda, 1982] human experts in making professional decisions. Little work seems to been done in terms of \\na general device to aid  real-time decision making in daily life, \\nalthough one recen t doctoral thesis did explore the design of a \\nlarge array of specialized, just -in-time devices to aid daily \\ndecisions [Sadi, 2012].  \\nSince artifact -based , real -time decision making is so \\nunderexplored, most processes  in Table 5  are without associated \\nartifacts. It may be of interest to build an artifact that assists users \\nwith framing decisions in the context of available options. To \\ncontinue the Reflectons  example  described in Table 6 , an interface \\nmay inform a user at dinnertime that he has the choice bet ween \\ntaking five, fifteen, or thirty minutes out of his schedule to eat \\ndinner. By framing the decision explicitly and asking the user to \\ncommit to a choice, the artifact has augmented the processes of \\ndecision recognition  and decision framing , and probabl y aided the \\nuser in the goal of not eating too quickly. Another artifact might \\nbe a wearable that asks users to pre -program a set of adjectives \\nthey strive to be, such as \"generous\", \"kind\", and \"inquisitive.\"  \\nThe wearable would alert the user when he has  the opportunity to \\nmake a decision that fits one of his pre -programmed attributes.  \\nFor instance, the artifact may make the suggestion to be generous \\nwhen the user encounters someone asking for change, to be kind \\nwhen encountering a cashier having a rough  day, or to be \\ninquisitive when passing a stack of books in the library. This \\nartifact would aid the user in the processes of value system \\nformation  and value system reconciliation . The same artifact \\ncould also gently provide us with information on how we are \\nfaring with respect to other people who have chosen the same \\nattributes as we do, so as to augment the process of knowledge \\nacquisition  and facilitate improvements via social comparison.  \\n \\nTable 5.  Processes associated with decision m aking  \\nProcess name  Process description  \\nKnowledge \\nacquisition  Acquire learned knowledge relevant to the decision either \\npassively or actively and potentially over extended time periods . \\nValue system \\nformation  Define or choose not  to define an internal value system . \\nDecision recognition  Recognize that it is the appropriate context, or situation for \\nmaking a decision .  \\nDecision framing  Frame the decision in terms of time and choices available . \\nValue system \\nreconciliation  Reconcile the choices with internal value system and learned \\nknowledge and select a decision . \\n \\n  ', metadata={'source': '/Users/danielgeorge/Documents/work/ml/hypolab/Synapse/server/data/Xia and Maes - 2013 - The design of artifacts for augmenting intellect.pdf', 'page': 4}),\n",
              " Document(page_content='Table 6 . Existing artifacts for decision making augmentation and affected processes  \\n \\nArtifact name  Artifact description  Process affected  \\nReflectons [Sadi, 2012]  Mental prostheses for delivering just -in-time information as users make \\ndaily life choices. For instance, a spoon lights up to indicate when its \\nholder might be eating too quickly, an indicator of unhealthy eating \\npractices that may lead to weight ga in. Framing the decision; Value \\nsystem reconciliation  \\n \\nDecision making has incredible potential for artifact augmentation \\nand co -evolution  between people and their artifacts . Our actions \\nshape who we are. Our future decisions are based on making \\nrelative comparisons with past decisions. By aligning our \\ndecisions with our internal beliefs and equipping our decisions \\nwith relevant information, we decrease error rates and become \\ncloser to who we truly want to be.  \\n5.4 Moo d \\nMood is defined as an affective phenomenon that differs from \\nemotion by its nonspecificity and pervasiveness [Morris, 1987]. In \\nother words, emotion is targeted toward a particular object \\nwhereas for mood the causal origin is unknown [Isen, 1984]. The \\nnonspecific and pervasive nature of mood further incentivizes us \\nto build artifacts to manage it since by definition it is enigmatic \\nand omnipresent. Humans  self-report  internal psychological \\nmethods  that we use for regulation  [Josephson, 1996], but these \\nsystems often fail as even highly performing individuals can be \\ninefficient and plagued with low morale or other mood problems.  \\nRather than define an ideal desired state of mood and design \\nartifacts for perpetually remaining in this ideal state, it may be \\neasier to create artifacts for correcting  negative mood states. It is \\nof particular interest to consider a computational approach to \\nmood -regulation as it would allow for fine -grained control and \\n\"self-medication.\"  \\nThe processes involved in mood seem to be a mbiguous so we \\nhave no table to present. However, behavioral biologists have \\npostulated that mood correction consist s of a two -part self -\\nregulatory system of recognizing a bad mood and subsequently \\ntaking corrective action such as self -reward, modification of \\nproblem significance, problem -directed action, or social affiliation \\n[Morris, 1987]. Therefore , both th e design o f artifacts that help \\nactively recognize a bad mood as well as those that facilitate \\nactive, corrective behaviors may help people manage mood issues.  \\nIn terms of existing artifacts, medicine has explored chemical -\\nbased ways of mood enhancement [Knutson, 19 98] [Chatterjee, \\n2004]. There have also been advancements i n computer -aided  \\ncognitive -behavioral therapy (CCBT), in which a computer uses \\npatient input to make computations and treatment decisions \\n[Marks, 2007]. CCBT may involve a computer program teaching  \\na patient methods that can be used to manage mood. However, \\nCCBT typically involves a highly specific program targeted \\ntowards one particular ailment, rather than a general mood \\nmanagement approach.   \\nIt may be of particular interest to consider mood impro vement for \\nhealthy or even happy people. The field of positive psychology  \\naddresses the  benefits of making normal people happier, in what \\nthey call the broaden -and-build theory [Fredrickson, 2001]. This \\ntheory argues that when people experience positive em otion, they \\nbroaden their thought  and action  repertoire s in such a way to build \\nenduring long-term resources, whereas negative emotion triggers \\npreservation instincts that do not allow these long -term resources \\nto be developed . Additionally, positive emoti ons were found to \\nbuild resiliency that can counter subsequent negative emotions and engender \"upward spirals\" toward emotional well -being \\n[Fredrickson, 2002].    \\nA positive psychology mood alteration artifact may be able to \\nincorporate other behavioral bio logy research such as literature on \\nprimes. For instance, a passive mood management approach may  \\ntake advantage of how affect -inducing events can prime similarly \\ntoned thoughts and  memory [Isen, 1978]. An artifact may display  \\nprime s to influence our objective perception  of neutral stimuli \\n[Murphy, 1993] or to facilitate creative thought [Isen, 1987].  \\nDevices of this type would deliver stimuli designed to induce \\nchanges in mood without conscious thought on the part of the \\nuser, in contrast to the activ e mood management techniques \\ndescribed in the previous paragraph.  \\nAlthough the study of mood may be  quirky, mood alteration \\nartifacts  make  a first attempt at interfacing with an opaque area of \\nour minds, offering an exciting avenue for s oftware units to \\ndispatch triggers that  can produce desired changes in behavior.  \\n6. OBSERVATIONS  \\nMeasurement  \\nIt is interesting to note that in the augmentation domains that we \\nconsider,  contain an  iterative process or cycle in which what  we \\nare trying to augment  implicitly g ets (or should get) measured. \\nTherefore, any artifact that measures the domain aids in the \\naugmentation process , and t he very act of measuring the  domain \\nmight cause  it to improve. These measurement idea easily lends \\nitself to artifact -based augmentation a nd resonates with the \\nquantified self mov ement in which users self-track in order to \\nimprove performance [Wolf, 2010].  \\nImagine that you are endowed with an artifact that makes it easy \\nto measure and record the number of new people you have met \\nduring the day. If yesterday you met three new people, and you \\nwere made aware of the fact today, you might feel pressure d to \\nmeet or exceed yesterday\\'s number. If you were not keeping track \\nof the daily number, yesterday\\'s achievement would have no \\npositive bearing on your actions today. Effectively this means that \\neven if the artifacts we design for augmenting aspects of cognition \\ndo not fun ction perfectly, we may get at least an initial \\nimprovement in  functionality purely based on this measurement \\nand increased awa reness phenomenon.  \\nPopulations  \\nUseful parallels with the biological sciences need not end with co -\\nevolution. In his 1962 paper, Engelbart lamented how \"each \\nindividual tends to evolve his own variations, but there is not \\nenough mutation and selection activ ity, nor enough selection \\nfeedback, to permit very significant changes.\" Fifty years later, if \\nwe can significantly extend  humans via software, we will create  a \\nnew population of \"superorganisms \" capable of  sharing effective  \\nself-augmentation  ideas in the form of software  code . Successful \\nmembers of the population may easily swap these ideas or \\n\"variations\" with others, fostering  an environment for rapid \\nevolution.  It has not escaped our notice that the specific ', metadata={'source': '/Users/danielgeorge/Documents/work/ml/hypolab/Synapse/server/data/Xia and Maes - 2013 - The design of artifacts for augmenting intellect.pdf', 'page': 5}),\n",
              " Document(page_content='evolutionary scenario we have postulated rega rding  software code \\nhas a biological equivalent in genetic code .  \\nAdditionally , the idea of defaulting to a population\\'s expertise  is \\nnot new and has been well-explored by use of the term \"collective \\nintelligence\" [Levy, 1999] . Th e idea has been heavily and \\nsuccessfully  tested in the Internet Era  through the use of music \\n[Shardanand, 1995] , product [Linden, 2003], and news [Das, \\n2007] recommender systems.  It may now  be time to retry the \\npopulation\\'s wisdom  in the era of personal we arable computing.   \\n7. CONCERNS  \\nAs we embark on the design of artifacts for cognitive \\naugmentation, we should carry with us Engelbart\\'s co -evolution \\ncorollary, remembering that the technologies we create end up \\nchanging the course of human evolution.  \\nWe must be aware of the potential of adversarial interference by \\nparties who attempt to tamper with our  augmentatio n processes \\nand employ robust technological security measures. As suggested \\nby [Sparrow, 2011], we must be aware that users  may become \\ndepen dent upon their software and ensure that users  still function \\nat a pre -augmentation level when not using a particular artifact. \\nWe need to design artifacts while respecting that augmentation is \\na highly personal and sensitive activity. It is especially imp ortant \\nthat users experience interfaces that are profoundly configurable, \\nunobtrusive, and consensual.  \\nDesign considerations aside, numerous ethical questions \\nsurrounding enhancement versus treatment remain, and have been \\nconsidered by medical doctors  [Chatterjee, 2004]. Their concerns \\ninclude the questions: does augmentation detract from our \\npersonhood? Will this encourage further resource disparity? Will \\npeople be pressured to use IA technology?  \\n8. CONCLUSION  \\nGiven the recent evolution of human -comput er interfaces, there is \\nenormous potential for creating technologies that augment \\ndomains of human cognition such as decision making, mood and \\nmotivation.  Engelbart\\'s original paper is useful in analyzing these \\nopportunities and offers many unexplored ide as for personal IA  \\nreadily implementable in the age of wearable computing. \\nAugmenting  human intelligence creates the powerful feedback \\nloop that Engelbart described as  increased intelligence leading to \\nnew technological developments in the intelligence aug mentation \\narena, leading to further increased intelligence.  \\nUsing Engelbart\\'s framework of processes and artifacts, we can \\nidentify underexplored domains for intelligence augmentation and \\nbegin on this odyssey. The framework presented in this paper \\noffers  a strong structural foundation for exploring the fresh, \\nuntrodden terrain o f personal, mental augmentation. We hope you \\nhave been inspired to design.  \\n9. ACKNOWLEDGMENTS  \\nThe authors extend a heartfelt thanks to Yan Zhang, Juergen \\nSteimle, Kelly Ran , and Ba rbara Barry  for helpful revision \\nfeedback, and to Jifei Ou for a point in the right direction.  \\n10. REFERENCES  \\n[1] Allen, D. (2001).  Getting things done . Viking.  \\n[2] Ariely, D. (2009).  Predictably irrational, revised and \\nexpanded edition: The hidden forces that sha pe our \\ndecisions. Harper.  [3] Barnett, G. O., Cimino, J. J., Hupp, J. A., & Hoffer, E. P. \\n(1987). An evolving diagnostic decision -support \\nsystem.  Jama , 258, 67-74. \\n[4] Buchanan, B. G., & Shortliffe, E. H. (1984).  Rule Based \\nExpert Systems: The Mycin Experiments of  the Stanford \\nHeuristic Programming Project (The Addison -Wesley series \\nin artificial intelligence). Addison -Wesley Longman \\nPublishing Co., Inc..  \\n[5] Bennett, K., Munro, M., Gold, N., Layzell, P., Budgen, D., & \\nBrereton, P. (2001). An architectural model for se rvice -based \\nsoftware with ultra rapid evolution. In  Software \\nMaintenance, 2001. Proceedings. IEEE International \\nConference on  (pp. 292 -300). IEEE.  \\n[6] Chatterjee, A. (2004). Cosmetic neurology The controversy \\nover enhancing movement, mentation, and \\nmood.  Neuro logy, 63(6), 968 -974. \\n[7] Clark, A. (2004).  Natural -born cyborgs: Minds, \\ntechnologies, and the future of human intelligence . Oxford \\nUniversity Press, USA.  \\n[8] Consolvo, S., McDonald, D. W., Toscos, T., Chen, M. Y., \\nFroehlich, J., Harrison, B., ... & Landay, J. A. (2008). \\nActivity sensing in the wild: a field trial of ubifit garden. \\nIn Proceedings of the twenty -sixth annual SIGCHI \\nconference on Human factors in computing systems  (pp. \\n1797 -1806). ACM.  \\n[9] Das, A. S., Datar, M., Garg, A., & Rajaram, S. (2007). \\nGoogle news  personalization: scalable online collaborative \\nfiltering. In  Proceedings of the 16th international conference \\non World Wide Web  (pp. 271 -280). ACM.  \\n[10] Corey, V. R. (2003). The memory glasses: subliminal vs. \\novert memory support with imperfect information. \\nIn Proceedings of the Seventh IEEE International \\nSymposium on Wearable Computers (ISWC’03)  (Vol. 1530, \\nNo. 0811/03, pp. 17 -00). \\n[11] Duda, R. O., & Shortliffe, E. H. (1982).  Expert systems \\nresearch . Laboratory for Artificial Intelligence Research, \\nFairchild, Schl umberger.  \\n[12] Engelbart, D. (2001). Augmenting human intellect: a \\nconceptual framework (1962).  PACKER, Randall and \\nJORDAN, Ken. Multimedia. From Wagner to Virtual \\nReality. New York: WW Norton & Company, 64 -90. \\n[13] Erez, A., & Isen, A. M. (2002). The influence of p ositive \\naffect on the components of expectancy motivation.  Journal \\nof Applied Psychology , 87(6), 1055.   \\n[14] Fogg, B. J. (2002). Persuasive technology: using computers \\nto change what we think and do.  Ubiquity , 2002 (December), \\n5. \\n[15] Fredrickson, B. L. (2001). The r ole of positive emotions in \\npositive psychology: The broaden -and-build theory of \\npositive emotions.  American psychologist ,56(3), 218.  \\n[16] Fredrickson, B. L., & Joiner, T. (2002). Positive emotions \\ntrigger upward spirals toward emotional well -\\nbeing.  Psychological science , 13(2), 172 -175. \\n[17] Gardner, H. E. (1985).  Frames of mind: The theory of \\nmultiple intelligences . Basic books.  \\n[18] Goleman, D. (2006).  Emotional intelligence: why it can \\nmatter more than IQ . Bantam.  \\n[19] Google Glass Project  (2012) . http://g.co/projectglass  \\n[20] Halacy, D. S. (1965).  Cyborg: evolution of the superman . \\nHarper & Row.  \\n[21] Hodges, S., Williams, L., Berry, E., Izadi, S., Srinivasan, J., \\nButler, A., ... & Wood, K. (2006). SenseCam: A \\nretrospective memory aid.  UbiComp 2006: Ubiquitous \\nComputing , 177 -193. ', metadata={'source': '/Users/danielgeorge/Documents/work/ml/hypolab/Synapse/server/data/Xia and Maes - 2013 - The design of artifacts for augmenting intellect.pdf', 'page': 6}),\n",
              " Document(page_content=\"[22] Isen, A. M., Shalker, T. E., Clark, M., & Karp, L. (1978). \\nAffect, accessibility of material in memory, and behavior: A \\ncognitive loop?.  Journal of personality and social \\npsychology , 36(1), 1.  \\n[23] Isen, A. M., Daubman, K. A., & N owicki, G. P. (1987). \\nPositive affect facilitates creative problem solving.  Journal \\nof personality and social psychology , 52(6), 1122.  \\n[24] Isen, A. M. (1984). Toward understanding the role of affect \\nin cognition.  Handbook of social cognition , 3, 179 -236. \\n[25] Josep hson, B. R. (1996). Mood regulation and memory: \\nRepairing sad moods with happy memories.  Cognition & \\nEmotion , 10(4), 437 -444. \\n[26] Kidd, C. D. (2008). Designing for long -term human -robot \\ninteraction and application to weight loss. Doctoral Thesis. \\nMIT Media Lab . \\n[27] Knutson, B., Wolkowitz, O. M., Cole, S. W., Chan, T., \\nMoore, E. A., Johnson, R. C., ... & Reus, V. I. (1998). \\nSelective alteration of personality and social behavior by \\nserotonergic intervention.  American Journal of \\nPsychiatry , 155(3), 373 -379. \\n[28] Lamming, M., & Flynn, M. (1994). Forget -me-not: Intimate \\ncomputing in support of human memory. In  Proc. \\nFRIEND21, 1994 Int. Symp. on Next Generation Human \\nInterface  (p. 4).   \\n[29] Lévy, P., & Bonomo, R. (1999).  Collective intelligence: \\nMankind's emerging world in cybersp ace. Perseus \\nPublishing.  \\n[30] Licklider, J. C. R. (1960). Man -computer symbiosis.  Human \\nFactors in Electronics, IRE Transactions on , (1), 4 -11. \\n[31] Linden, G., Smith, B., & York, J. (2003). Amazon. com \\nrecommendations: Item -to-item collaborative \\nfiltering.  Internet  Computing, IEEE , 7(1), 76 -80.  \\n[32] Liu, H., & Maes, P. (2004, January). What would they \\nthink?: a computational model of attitudes. In  Proceedings of \\nthe 9th international conference on Intelligent user \\ninterfaces  (pp. 38 -45). ACM.  \\n[33] Mann, S. (1997). Wearable computing: A first step toward \\npersonal imaging. Computer , 30(2), 25 -32. \\n[34] Marks, I. M., Cavanagh, K., & Gega, L. (2007). Computer -\\naided psychotherapy: revolution or bubble?.  The British \\nJournal of Psychiatry , 191(6), 471 -473. \\n[35] Mistr y, P., & Maes, P. (2009). SixthSense: a wearable \\ngestural interface. In  ACM SIGGRAPH ASIA 2009 \\nSketches  (p. 11). ACM.  \\n[36] Morris, W. N., & Reilly, N. P. (1987). Toward the self -\\nregulation of mood: Theory and research.  Motivation and \\nEmotion , 11(3), 215 -249. \\n[37] Murphy, S. T., & Zajonc, R. B. (1993). Affect, cognition, \\nand awareness: affective priming with optimal and \\nsuboptimal stimulus exposures.  Journal of Personality and \\nSocial Psychology; Journal of Personality and Social \\nPsychology , 64(5), 723.  \\n[38] Nes, R. B., R oysamb, E., Tambs, K., Harris, J. R., & \\nReichborn -Kjennerud, T. (2006). Subjective well -being: \\ngenetic and environmental contributions to stability and \\nchange.  Psychological medicine , 36(7), 1033 -1042.  \\n[39] Oulasvirta, A., Rattenbury, T., Ma, L., & Raita, E. (2 012). \\nHabits make smartphone use more pervasive.  Personal and \\nUbiquitous Computing , 16(1), 105 -114. \\n[40] Picard, R. W., & Healey, J. (1997). Affective \\nwearables.  Personal and Ubiquitous Computing , 1(4), 231 -\\n240. \\n[41] Resnick, M., Maloney, J., Monroy -Hernández, A., R usk, N., \\nEastmond, E., Brennan, K., ... & Kafai, Y. (2009). Scratch: programming for all.  Communications of the ACM , 52(11), \\n60-67. \\n[42] Rhodes, B. J. (1997). The wearable remembrance agent: A \\nsystem for augmented memory.  Personal and Ubiquitous \\nComputing , 1(4), 218 -224. \\n[43] Sadi, S. (2012). ReflectOns: Mental Prostheses for Self -\\nReflection. Doctoral Thesis. MIT Media Lab.  \\n[44] Schilit, B., Adams, N., & Want, R. (1994, December). \\nContext -aware computing applications. In  Mobile Computing \\nSystems and Applications, 1994. WMCSA 1994. First \\nWorkshop on  (pp. 85 -90). IEEE.  \\n[45] Sharda, R., Barr, S. H., & Mc Donnell, J. C. (1988). Decision \\nsupport system effectiveness: a review and an empirical \\ntest. Management science , 34(2), 139 -159. \\n[46] Shardanand, U., & Maes, P. (1995, May). Social information \\nfiltering: algorithms for automating “word of mouth”. \\nIn Proceedings of the SIGCHI conference on Human factors \\nin computing systems  (pp. 210 -217). ACM Press/Addison -\\nWesley Publishing Co..  \\n[47] Sparrow, B., Liu, J., & Wegner, D. M. (2011). Google eff ects \\non memory: Cognitive consequences of having information \\nat our fingertips.  Science ,333(6043), 776 -778. \\n[48] Squire, L. R. (1992). Declarative and nondeclarative \\nmemory: Multiple brain systems supporting learning and \\nmemory.  Journal of Cognitive Neuroscienc e,4(3), 232 -243. \\n[49] Squire, L. R., & Zola, S. M. (1998). Episodic memory, \\nsemantic memory, and amnesia.  Hippocampus , 8(3), 205 -\\n211. \\n[50] Starner, T., Mann, S., Rhodes, B., Levine, J., Healey, J., \\nKirsch, D., ... & Pentland, A. (1997). Augmented reality \\nthrough wea rable computing.  Presence: Teleoperators and \\nVirtual Environments , 6(4), 386 -398. \\n[51] Starner, T., Schiele, B., & Pentland, A. (1998). Visual \\ncontextual awareness in wearable computing. In  Wearable \\nComputers, 1998. Digest of Papers. Second International \\nSymposium on  (pp. 50 -57). IEEE.  \\n[52] Tulving, E., & Markowitsch, H. J. (1998). Episodic and \\ndeclarative memory: role of the \\nhippocampus.  Hippocampus , 8(3), 198 -204. \\n[53] Vemuri, S., Schmandt, C., & Bender, W. (2006). \\niRemember: a personal, long -term memory prosthesi s. \\nIn Proceedings of the 3rd ACM workshop on Continuous \\narchival and retri eval of personal exper iences  (pp. 65 -74). \\nACM.  \\n[54] Vicon Revue. http://viconrevue.com/product.html  \\n[55] Vroom, V. H. (1964). Work and motivation.  \\n[56] Winograd, E., & Neisser, U. (Eds.). (2006).  Affect and \\nAccuracy in Recall: Studies of 'Flashbulb' Memories  (Vol. \\n4). Cambridge University Press.  \\n[57] Wolf, G., Carmichael, A., & Kelly, K. (2010). The quantified \\nself. TED \\nhttp://www.ted.com/talks/gary_wolf_the_quantified_self.html  \\n[58] Wood, W., & Neal, D. T. (2007). A new look at habits and \\nthe habit -goal interface.  Psychological review , 114(4), 843.  \", metadata={'source': '/Users/danielgeorge/Documents/work/ml/hypolab/Synapse/server/data/Xia and Maes - 2013 - The design of artifacts for augmenting intellect.pdf', 'page': 7})]"
            ]
          },
          "execution_count": 41,
          "metadata": {},
          "output_type": "execute_result"
        }
      ],
      "source": [
        "PyPDFLoader('/Users/danielgeorge/Documents/work/ml/hypolab/Synapse/server/data/Xia and Maes - 2013 - The design of artifacts for augmenting intellect.pdf').load()"
      ]
    },
    {
      "cell_type": "code",
      "execution_count": 33,
      "metadata": {
        "id": "3__nT0D4Fkmg"
      },
      "outputs": [],
      "source": [
        "#splitting the text into\n",
        "text_splitter = RecursiveCharacterTextSplitter(chunk_size=1000, chunk_overlap=200)\n",
        "texts = text_splitter.split_documents(documents)"
      ]
    },
    {
      "cell_type": "code",
      "execution_count": 34,
      "metadata": {
        "colab": {
          "base_uri": "https://localhost:8080/"
        },
        "id": "TlU5AlqY4gwj",
        "outputId": "b8a72e72-bca6-4458-cf30-f8ba8168dbe1"
      },
      "outputs": [
        {
          "data": {
            "text/plain": [
              "249"
            ]
          },
          "execution_count": 34,
          "metadata": {},
          "output_type": "execute_result"
        }
      ],
      "source": [
        "len(texts)"
      ]
    },
    {
      "cell_type": "code",
      "execution_count": 35,
      "metadata": {
        "colab": {
          "base_uri": "https://localhost:8080/"
        },
        "id": "Bg6-9jwU4ja_",
        "outputId": "a2061f09-61a8-42f1-d7e8-e30261b33257"
      },
      "outputs": [
        {
          "data": {
            "text/plain": [
              "Document(page_content='in vitro (p < 0.05 –0.0001), in various mouse tissues in vivo\\n(p < 0.03 –0.0001), and in human liver in vivo (p < 0.005). These\\ndifferences may have clinical implications for rAAV receptorbinding, traf ﬁcking, expression kinetics, expression durability,\\nvector immunogenicity, as well as cost considerations.\\nINTRODUCTION\\nAdeno-associated virus (AAV) is a single-stranded DNA virus that\\nis non-pathogenic to humans, exhibits low immunogenicity but\\nhigh transduction ef ﬁciency, and is unable to replicate itself.1Re-combinant AAV (rAAV) can stably express gene products from\\neither unintegrated episomes2in quiescent tissues, or via integration\\nin actively dividing tissues3when designed with appropriate homol-\\nogy arms. Gene therapies and passive vaccines with rAAV arerapidly gaining attention and investment following the ﬁrst rAAV', metadata={'source': 'data/Rumachik et al. - 2020 - Methods Matter Standard Production Platforms for.pdf', 'page': 0})"
            ]
          },
          "execution_count": 35,
          "metadata": {},
          "output_type": "execute_result"
        }
      ],
      "source": [
        "texts[3]"
      ]
    },
    {
      "cell_type": "markdown",
      "metadata": {
        "id": "YsYsIy8F4cdm"
      },
      "source": [
        "## create the DB"
      ]
    },
    {
      "cell_type": "code",
      "execution_count": 36,
      "metadata": {
        "id": "Q_eTIZwf4Dk2"
      },
      "outputs": [],
      "source": [
        "# Embed and store the texts\n",
        "# Supplying a persist_directory will store the embeddings on disk\n",
        "persist_directory = 'db'\n",
        "\n",
        "## here we are using OpenAI embeddings but in future we will swap out to local embeddings\n",
        "embedding = OpenAIEmbeddings()\n",
        "\n",
        "vectordb = Chroma.from_documents(documents=texts,\n",
        "                                 embedding=embedding,\n",
        "                                 persist_directory=persist_directory)"
      ]
    },
    {
      "cell_type": "code",
      "execution_count": 10,
      "metadata": {
        "id": "uRfD_Te-47lb"
      },
      "outputs": [],
      "source": [
        "# persiste the db to disk\n",
        "vectordb.persist()\n",
        "vectordb = None"
      ]
    },
    {
      "cell_type": "code",
      "execution_count": 11,
      "metadata": {
        "id": "A-h1y_eAHmD-"
      },
      "outputs": [],
      "source": [
        "# Now we can load the persisted database from disk, and use it as normal.\n",
        "vectordb = Chroma(persist_directory=persist_directory,\n",
        "                  embedding_function=embedding)"
      ]
    },
    {
      "cell_type": "markdown",
      "metadata": {
        "id": "siLXR-XT0JoI"
      },
      "source": [
        "## Make a retriever"
      ]
    },
    {
      "cell_type": "code",
      "execution_count": 12,
      "metadata": {
        "id": "6ObunFU30Lxh"
      },
      "outputs": [],
      "source": [
        "retriever = vectordb.as_retriever()"
      ]
    },
    {
      "cell_type": "code",
      "execution_count": 13,
      "metadata": {
        "id": "cYA-H59u0Skn"
      },
      "outputs": [],
      "source": [
        "docs = retriever.get_relevant_documents(\"How would we use AAV to edit cells?\")"
      ]
    },
    {
      "cell_type": "code",
      "execution_count": 14,
      "metadata": {
        "colab": {
          "base_uri": "https://localhost:8080/"
        },
        "id": "h0iAuh_B0ZjE",
        "outputId": "7b412155-74b6-484c-c500-699eefa8c25f"
      },
      "outputs": [
        {
          "data": {
            "text/plain": [
              "4"
            ]
          },
          "execution_count": 14,
          "metadata": {},
          "output_type": "execute_result"
        }
      ],
      "source": [
        "len(docs)"
      ]
    },
    {
      "cell_type": "code",
      "execution_count": 15,
      "metadata": {
        "id": "jVWgPJXs1yRq"
      },
      "outputs": [],
      "source": [
        "retriever = vectordb.as_retriever(search_kwargs={\"k\": 2})"
      ]
    },
    {
      "cell_type": "code",
      "execution_count": 16,
      "metadata": {
        "colab": {
          "base_uri": "https://localhost:8080/",
          "height": 35
        },
        "id": "H4N0IhRM0hHL",
        "outputId": "b478a6ad-f17f-4bf4-97f4-9cf941c0d653"
      },
      "outputs": [
        {
          "data": {
            "text/plain": [
              "'similarity'"
            ]
          },
          "execution_count": 16,
          "metadata": {},
          "output_type": "execute_result"
        }
      ],
      "source": [
        "retriever.search_type"
      ]
    },
    {
      "cell_type": "code",
      "execution_count": 17,
      "metadata": {
        "colab": {
          "base_uri": "https://localhost:8080/"
        },
        "id": "4jXL9u-u0prF",
        "outputId": "3583ae2e-5bae-4efc-b40c-9b3ebf8a6252"
      },
      "outputs": [
        {
          "data": {
            "text/plain": [
              "{'k': 2}"
            ]
          },
          "execution_count": 17,
          "metadata": {},
          "output_type": "execute_result"
        }
      ],
      "source": [
        "retriever.search_kwargs"
      ]
    },
    {
      "cell_type": "markdown",
      "metadata": {
        "id": "4Ia-4OXa5IeP"
      },
      "source": [
        "## Make a chain"
      ]
    },
    {
      "cell_type": "code",
      "execution_count": null,
      "metadata": {
        "id": "MGx8XblM4shW"
      },
      "outputs": [],
      "source": [
        "# create the chain to answer questions\n",
        "qa_chain = RetrievalQA.from_chain_type(llm=OpenAI(),\n",
        "                                  chain_type=\"stuff\",\n",
        "                                  retriever=retriever,\n",
        "                                  return_source_documents=True)"
      ]
    },
    {
      "cell_type": "code",
      "execution_count": null,
      "metadata": {
        "id": "LZEo26mw8e5k"
      },
      "outputs": [],
      "source": [
        "## Cite sources\n",
        "def process_llm_response(llm_response):\n",
        "    print(llm_response['result'])\n",
        "    print('\\n\\nSources:')\n",
        "    for source in llm_response[\"source_documents\"]:\n",
        "        print(source.metadata['source'])"
      ]
    },
    {
      "cell_type": "code",
      "execution_count": null,
      "metadata": {
        "colab": {
          "base_uri": "https://localhost:8080/"
        },
        "id": "wKfX4vX-5RFT",
        "outputId": "f05be533-f643-4f72-ae37-a2b5777df9c7"
      },
      "outputs": [
        {
          "name": "stdout",
          "output_type": "stream",
          "text": [
            " AAV can be used to edit cells through a gene therapy or a passive vaccine. It can be produced in HEK293 cells using a platform of transient transfection or using baculovirus infection of Spodoptera frugiperda insect cells.\n",
            "\n",
            "\n",
            "Sources:\n",
            "data/data/Rumachik et al. - 2020 - Methods Matter Standard Production Platforms for.pdf\n",
            "data/data/Rumachik et al. - 2020 - Methods Matter Standard Production Platforms for.pdf\n"
          ]
        }
      ],
      "source": [
        "# full example\n",
        "query = \"How would we use AAV to edit cells?\"\n",
        "llm_response = qa_chain(query)\n",
        "process_llm_response(llm_response)"
      ]
    },
    {
      "cell_type": "code",
      "execution_count": null,
      "metadata": {
        "colab": {
          "base_uri": "https://localhost:8080/"
        },
        "id": "olRm73t3rNt2",
        "outputId": "e22e3e34-7519-4c29-bb01-b329425d2d99"
      },
      "outputs": [
        {
          "data": {
            "text/plain": [
              "{'query': 'Favorite representations\\n- notations (Leibniz), automata, graphs (Bret victor), car recliner button\\n- keep reading design of everyday things\\n- Going from 1 to 0 registers through analogy (Python)\\n- Mendeleev and the periodic table\\n',\n",
              " 'result': \" I don't know.\",\n",
              " 'source_documents': [Document(page_content='during the day. If yesterday you met three new people, and you \\nwere made aware of the fact today, you might feel pressure d to \\nmeet or exceed yesterday\\'s number. If you were not keeping track \\nof the daily number, yesterday\\'s achievement would have no \\npositive bearing on your actions today. Effectively this means that \\neven if the artifacts we design for augmenting aspects of cognition \\ndo not fun ction perfectly, we may get at least an initial \\nimprovement in  functionality purely based on this measurement \\nand increased awa reness phenomenon.  \\nPopulations  \\nUseful parallels with the biological sciences need not end with co -\\nevolution. In his 1962 paper, Engelbart lamented how \"each \\nindividual tends to evolve his own variations, but there is not \\nenough mutation and selection activ ity, nor enough selection \\nfeedback, to permit very significant changes.\" Fifty years later, if \\nwe can significantly extend  humans via software, we will create  a', metadata={'source': 'data/data/Xia and Maes - 2013 - The design of artifacts for augmenting intellect.pdf', 'page': 5}),\n",
              "  Document(page_content='1962]  in order to  (1) update Engelbart\\'s IA framework for \\npersonal wearable devices of the 21st century, (2) propose a \\nlogical design pattern for new IA devices (3) place existing IA \\nartifacts within conte xt, and in such a way to (4) identify IA areas \\nthat may benefit from additional research activity and \\nconceptualize new devices.  \\nEngelbart studied how augmentation could make humans better \\nproblem solvers. He chose to think about intellect augmentation as \\na systems engineering problem in which humans do not exist \\nsingularly but rather as part of a  larger system consisting of a \\nHuman using Language, A rtifacts,  and M ethodology in which  he \\nis Trained --which he calls the H-LAM/T system . Engelbart noted \\nthat whe n humans approach a problem solving task, we  have  \\nprocesses  or \"little steps or actions\" to call upon as we tackle \\nvarious parts of the problem. The entire problem -solving task is \\ncomposed of numerous processes in the form of a process', metadata={'source': 'data/data/Xia and Maes - 2013 - The design of artifacts for augmenting intellect.pdf', 'page': 0})]}"
            ]
          },
          "execution_count": 62,
          "metadata": {},
          "output_type": "execute_result"
        }
      ],
      "source": [
        "# break it down\n",
        "query = \"\"\"Favorite representations\n",
        "- notations (Leibniz), automata, graphs (Bret victor), car recliner button\n",
        "- keep reading design of everyday things\n",
        "- Going from 1 to 0 registers through analogy (Python)\n",
        "- Mendeleev and the periodic table\n",
        "\"\"\"\n",
        "llm_response = qa_chain(query)\n",
        "# process_llm_response(llm_response)\n",
        "llm_response"
      ]
    },
    {
      "cell_type": "code",
      "execution_count": null,
      "metadata": {
        "colab": {
          "base_uri": "https://localhost:8080/"
        },
        "id": "wg-e6fh6rNwz",
        "outputId": "4b8d1e0e-b039-4e21-c233-a6c308cc5e25"
      },
      "outputs": [
        {
          "name": "stdout",
          "output_type": "stream",
          "text": [
            " Iron Pillar and Uncorrelated Ventures.\n",
            "\n",
            "\n",
            "Sources:\n",
            "new_articles/05-03-ai-powered-supply-chain-startup-pando-lands-30m-investment.txt\n",
            "new_articles/05-03-ai-powered-supply-chain-startup-pando-lands-30m-investment.txt\n"
          ]
        }
      ],
      "source": [
        "query = \"Who led the round in Pando?\"\n",
        "llm_response = qa_chain(query)\n",
        "process_llm_response(llm_response)"
      ]
    },
    {
      "cell_type": "code",
      "execution_count": null,
      "metadata": {
        "colab": {
          "base_uri": "https://localhost:8080/"
        },
        "id": "cuFf8D-rrN0I",
        "outputId": "19c63b88-33e2-4400-eede-f2678231eccb"
      },
      "outputs": [
        {
          "name": "stdout",
          "output_type": "stream",
          "text": [
            " Databricks acquired Okera, a data governance platform with a focus on AI.\n",
            "\n",
            "\n",
            "Sources:\n",
            "new_articles/05-03-databricks-acquires-ai-centric-data-governance-platform-okera.txt\n",
            "new_articles/05-03-databricks-acquires-ai-centric-data-governance-platform-okera.txt\n"
          ]
        }
      ],
      "source": [
        "query = \"What did databricks acquire?\"\n",
        "llm_response = qa_chain(query)\n",
        "process_llm_response(llm_response)"
      ]
    },
    {
      "cell_type": "code",
      "execution_count": null,
      "metadata": {
        "colab": {
          "base_uri": "https://localhost:8080/"
        },
        "id": "t5KETxphrN3d",
        "outputId": "4f4a7dfb-0f5b-4b72-b678-6def5d056d20"
      },
      "outputs": [
        {
          "name": "stdout",
          "output_type": "stream",
          "text": [
            " Generative AI is a type of artificial intelligence that is used to create new content associated with a company, such as content for a website or ads. It can also be used to automate processes and workflows.\n",
            "\n",
            "\n",
            "Sources:\n",
            "new_articles/05-04-slack-updates-aim-to-put-ai-at-the-center-of-the-user-experience.txt\n",
            "new_articles/05-03-nova-is-building-guardrails-for-generative-ai-content-to-protect-brand-integrity.txt\n"
          ]
        }
      ],
      "source": [
        "query = \"What is generative ai?\"\n",
        "llm_response = qa_chain(query)\n",
        "process_llm_response(llm_response)"
      ]
    },
    {
      "cell_type": "code",
      "execution_count": null,
      "metadata": {
        "colab": {
          "base_uri": "https://localhost:8080/"
        },
        "id": "692pHNkFrN5z",
        "outputId": "85124452-c208-4ec4-a35d-be28503ddc42"
      },
      "outputs": [
        {
          "name": "stdout",
          "output_type": "stream",
          "text": [
            " The CMA stands for the Competition and Markets Authority.\n",
            "\n",
            "\n",
            "Sources:\n",
            "new_articles/05-04-cma-generative-ai-review.txt\n",
            "new_articles/05-04-cma-generative-ai-review.txt\n"
          ]
        }
      ],
      "source": [
        "query = \"Who is CMA?\"\n",
        "llm_response = qa_chain(query)\n",
        "process_llm_response(llm_response)"
      ]
    },
    {
      "cell_type": "code",
      "execution_count": null,
      "metadata": {
        "colab": {
          "base_uri": "https://localhost:8080/"
        },
        "id": "IPIhZWAR5n3X",
        "outputId": "68914c62-f8ed-4e22-d889-7991df441d53"
      },
      "outputs": [
        {
          "data": {
            "text/plain": [
              "('similarity', <langchain.vectorstores.chroma.Chroma at 0x7f9f7dc82aa0>)"
            ]
          },
          "execution_count": 27,
          "metadata": {},
          "output_type": "execute_result"
        }
      ],
      "source": [
        "qa_chain.retriever.search_type , qa_chain.retriever.vectorstore"
      ]
    },
    {
      "cell_type": "code",
      "execution_count": null,
      "metadata": {
        "colab": {
          "base_uri": "https://localhost:8080/"
        },
        "id": "3_lp0_796P_-",
        "outputId": "64c01726-6e78-4c12-e409-2fdc839f6611"
      },
      "outputs": [
        {
          "name": "stdout",
          "output_type": "stream",
          "text": [
            "Use the following pieces of context to answer the question at the end. If you don't know the answer, just say that you don't know, don't try to make up an answer.\n",
            "\n",
            "{context}\n",
            "\n",
            "Question: {question}\n",
            "Helpful Answer:\n"
          ]
        }
      ],
      "source": [
        "print(qa_chain.combine_documents_chain.llm_chain.prompt.template)"
      ]
    },
    {
      "cell_type": "markdown",
      "metadata": {
        "id": "SSxVCnNi5h1-"
      },
      "source": [
        "## Deleteing the DB"
      ]
    },
    {
      "cell_type": "code",
      "execution_count": null,
      "metadata": {
        "colab": {
          "base_uri": "https://localhost:8080/"
        },
        "id": "H7xmepGJ2GAE",
        "outputId": "92b53c84-ef81-4000-db5a-2c2ec09db311"
      },
      "outputs": [
        {
          "name": "stdout",
          "output_type": "stream",
          "text": [
            "  adding: db/ (stored 0%)\n",
            "  adding: db/chroma-collections.parquet (deflated 50%)\n",
            "  adding: db/index/ (stored 0%)\n",
            "  adding: db/index/index_metadata_59c51927-205d-4fd7-88d8-c7ba851bd2a5.pkl (deflated 5%)\n",
            "  adding: db/index/uuid_to_id_59c51927-205d-4fd7-88d8-c7ba851bd2a5.pkl (deflated 39%)\n",
            "  adding: db/index/index_59c51927-205d-4fd7-88d8-c7ba851bd2a5.bin (deflated 17%)\n",
            "  adding: db/index/id_to_uuid_59c51927-205d-4fd7-88d8-c7ba851bd2a5.pkl (deflated 35%)\n",
            "  adding: db/chroma-embeddings.parquet (deflated 29%)\n"
          ]
        }
      ],
      "source": [
        "!zip -r db.zip ./db"
      ]
    },
    {
      "cell_type": "code",
      "execution_count": null,
      "metadata": {
        "id": "Jl84qGQt5Wu5"
      },
      "outputs": [],
      "source": [
        "# To cleanup, you can delete the collection\n",
        "vectordb.delete_collection()\n",
        "vectordb.persist()\n",
        "\n",
        "# delete the directory\n",
        "!rm -rf db/"
      ]
    },
    {
      "cell_type": "markdown",
      "metadata": {
        "id": "R2r0ZIBPJp-K"
      },
      "source": [
        "## Starting again loading the db\n",
        "\n",
        "restart the runtime"
      ]
    },
    {
      "cell_type": "code",
      "execution_count": null,
      "metadata": {
        "colab": {
          "base_uri": "https://localhost:8080/"
        },
        "id": "8pc7CM_mTQAt",
        "outputId": "f8e311fb-7d68-43af-ffd6-f66a9259766a"
      },
      "outputs": [
        {
          "name": "stdout",
          "output_type": "stream",
          "text": [
            "Archive:  db.zip\n",
            "   creating: db/\n",
            "  inflating: db/chroma-collections.parquet  \n",
            "   creating: db/index/\n",
            "  inflating: db/index/index_metadata_59c51927-205d-4fd7-88d8-c7ba851bd2a5.pkl  \n",
            "  inflating: db/index/uuid_to_id_59c51927-205d-4fd7-88d8-c7ba851bd2a5.pkl  \n",
            "  inflating: db/index/index_59c51927-205d-4fd7-88d8-c7ba851bd2a5.bin  \n",
            "  inflating: db/index/id_to_uuid_59c51927-205d-4fd7-88d8-c7ba851bd2a5.pkl  \n",
            "  inflating: db/chroma-embeddings.parquet  \n"
          ]
        }
      ],
      "source": [
        "!unzip db.zip"
      ]
    },
    {
      "cell_type": "code",
      "execution_count": null,
      "metadata": {
        "id": "us3F8ZKeRiz2"
      },
      "outputs": [],
      "source": [
        "import os\n",
        "\n",
        "os.environ[\"OPENAI_API_KEY\"] = \"\""
      ]
    },
    {
      "cell_type": "code",
      "execution_count": null,
      "metadata": {
        "id": "qK1nY4PkKYGo"
      },
      "outputs": [],
      "source": [
        "from langchain.vectorstores import Chroma\n",
        "from langchain.embeddings import OpenAIEmbeddings\n",
        "\n",
        "from langchain.chat_models import ChatOpenAI\n",
        "from langchain.chains import RetrievalQA"
      ]
    },
    {
      "cell_type": "code",
      "execution_count": null,
      "metadata": {
        "colab": {
          "base_uri": "https://localhost:8080/"
        },
        "id": "396RyNbS4EXx",
        "outputId": "502d5c81-0823-4c00-89ca-7b4dd08bee26"
      },
      "outputs": [
        {
          "name": "stderr",
          "output_type": "stream",
          "text": [
            "WARNING:chromadb:Using embedded DuckDB with persistence: data will be stored in: db\n"
          ]
        }
      ],
      "source": [
        "persist_directory = 'db'\n",
        "embedding = OpenAIEmbeddings()\n",
        "\n",
        "vectordb2 = Chroma(persist_directory=persist_directory,\n",
        "                  embedding_function=embedding,\n",
        "                   )\n",
        "\n",
        "retriever = vectordb2.as_retriever(search_kwargs={\"k\": 2})"
      ]
    },
    {
      "cell_type": "code",
      "execution_count": null,
      "metadata": {
        "id": "F3vkSxxYKCZ9"
      },
      "outputs": [],
      "source": [
        "# Set up the turbo LLM\n",
        "turbo_llm = ChatOpenAI(\n",
        "    temperature=0,\n",
        "    model_name='gpt-3.5-turbo'\n",
        ")"
      ]
    },
    {
      "cell_type": "code",
      "execution_count": null,
      "metadata": {
        "id": "PsR60NH5KCfj"
      },
      "outputs": [],
      "source": [
        "# create the chain to answer questions\n",
        "qa_chain = RetrievalQA.from_chain_type(llm=turbo_llm,\n",
        "                                  chain_type=\"stuff\",\n",
        "                                  retriever=retriever,\n",
        "                                  return_source_documents=True)"
      ]
    },
    {
      "cell_type": "code",
      "execution_count": null,
      "metadata": {
        "id": "RWulTG0eKCfk"
      },
      "outputs": [],
      "source": [
        "## Cite sources\n",
        "def process_llm_response(llm_response):\n",
        "    print(llm_response['result'])\n",
        "    print('\\n\\nSources:')\n",
        "    for source in llm_response[\"source_documents\"]:\n",
        "        print(source.metadata['source'])"
      ]
    },
    {
      "cell_type": "code",
      "execution_count": null,
      "metadata": {
        "colab": {
          "base_uri": "https://localhost:8080/"
        },
        "id": "mDp-g2FtKCfk",
        "outputId": "766f131a-daaf-462f-842a-f7bd10a081fd"
      },
      "outputs": [
        {
          "name": "stdout",
          "output_type": "stream",
          "text": [
            "Pando raised $30 million in a Series B round, bringing its total raised to $45 million.\n",
            "\n",
            "\n",
            "Sources:\n",
            "new_articles/05-03-ai-powered-supply-chain-startup-pando-lands-30m-investment.txt\n",
            "new_articles/05-03-ai-powered-supply-chain-startup-pando-lands-30m-investment.txt\n"
          ]
        }
      ],
      "source": [
        "# full example\n",
        "query = \"How much money did Pando raise?\"\n",
        "llm_response = qa_chain(query)\n",
        "process_llm_response(llm_response)"
      ]
    },
    {
      "cell_type": "markdown",
      "metadata": {
        "id": "7fPl26c-TbWw"
      },
      "source": [
        "### Chat prompts"
      ]
    },
    {
      "cell_type": "code",
      "execution_count": null,
      "metadata": {
        "colab": {
          "base_uri": "https://localhost:8080/"
        },
        "id": "wwyuhrpu5XqM",
        "outputId": "0f2c8060-4002-49ba-8869-6a9990c2c6d6"
      },
      "outputs": [
        {
          "name": "stdout",
          "output_type": "stream",
          "text": [
            "Use the following pieces of context to answer the users question. \n",
            "If you don't know the answer, just say that you don't know, don't try to make up an answer.\n",
            "----------------\n",
            "{context}\n"
          ]
        }
      ],
      "source": [
        "print(qa_chain.combine_documents_chain.llm_chain.prompt.messages[0].prompt.template)"
      ]
    },
    {
      "cell_type": "code",
      "execution_count": null,
      "metadata": {
        "colab": {
          "base_uri": "https://localhost:8080/"
        },
        "id": "LcWXvSCHRvHO",
        "outputId": "d7a3acee-9ef1-4c08-b2a0-187f2cd90c8f"
      },
      "outputs": [
        {
          "name": "stdout",
          "output_type": "stream",
          "text": [
            "{question}\n"
          ]
        }
      ],
      "source": [
        "print(qa_chain.combine_documents_chain.llm_chain.prompt.messages[1].prompt.template)"
      ]
    },
    {
      "cell_type": "code",
      "execution_count": 42,
      "metadata": {},
      "outputs": [
        {
          "name": "stdout",
          "output_type": "stream",
          "text": [
            "[Errno 2] No such file or directory: '/Users/danielgeorge/Documents/work/ml/hypolab/Synapse/server/dirty_index/test.txt'\n"
          ]
        }
      ],
      "source": [
        "try:\n",
        "    with open('/Users/danielgeorge/Documents/work/ml/hypolab/Synapse/server/dirty_index/test.txt', 'w') as f:\n",
        "        f.write('test')\n",
        "except Exception as e:\n",
        "    print(e)"
      ]
    }
  ],
  "metadata": {
    "colab": {
      "provenance": []
    },
    "kernelspec": {
      "display_name": "Python 3",
      "name": "python3"
    },
    "language_info": {
      "codemirror_mode": {
        "name": "ipython",
        "version": 3
      },
      "file_extension": ".py",
      "mimetype": "text/x-python",
      "name": "python",
      "nbconvert_exporter": "python",
      "pygments_lexer": "ipython3",
      "version": "3.11.4"
    }
  },
  "nbformat": 4,
  "nbformat_minor": 0
}
